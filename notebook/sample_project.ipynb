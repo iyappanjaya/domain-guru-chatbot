{
 "cells": [
  {
   "cell_type": "markdown",
   "id": "11a30c91",
   "metadata": {},
   "source": [
    "Demo jupyter notebook"
   ]
  },
  {
   "cell_type": "code",
   "execution_count": null,
   "id": "7256c38c-40a2-4989-ae91-c446a2d7b406",
   "metadata": {},
   "outputs": [],
   "source": [
    "print(\"Hello world\")"
   ]
  }
 ],
 "metadata": {
  "kernelspec": {
   "display_name": "Python 3",
   "language": "python",
   "name": "python3"
  },
  "language_info": {
   "codemirror_mode": {
    "name": "ipython",
    "version": 3
   },
   "file_extension": ".py",
   "mimetype": "text/x-python",
   "name": "python",
   "nbconvert_exporter": "python",
   "pygments_lexer": "ipython3",
   "version": "3.11.4"
  }
 },
 "nbformat": 4,
 "nbformat_minor": 5
}
